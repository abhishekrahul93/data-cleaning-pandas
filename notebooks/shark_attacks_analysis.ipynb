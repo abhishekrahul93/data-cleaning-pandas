{
 "cells": [
  {
   "cell_type": "code",
   "execution_count": 30,
   "metadata": {},
   "outputs": [],
   "source": [
    "# Starter cell\\nprint('Notebook created successfully ✅')"
   ]
  },
  {
   "cell_type": "code",
   "execution_count": 31,
   "metadata": {},
   "outputs": [
    {
     "name": "stdout",
     "output_type": "stream",
     "text": [
      "Environment ready ✅\n"
     ]
    }
   ],
   "source": [
    "# 1. Setup & imports\n",
    "import pandas as pd\n",
    "import numpy as np #I think we dont need this one\n",
    "import matplotlib.pyplot as plt\n",
    "import seaborn as sns\n",
    "import re\n",
    "\n",
    "pd.set_option(\"display.max_columns\", None)\n",
    "sns.set(style=\"whitegrid\")\n",
    "\n",
    "print(\"Environment ready ✅\")\n"
   ]
  },
  {
   "cell_type": "code",
   "execution_count": 32,
   "metadata": {},
   "outputs": [
    {
     "data": {
      "text/html": [
       "<div>\n",
       "<style scoped>\n",
       "    .dataframe tbody tr th:only-of-type {\n",
       "        vertical-align: middle;\n",
       "    }\n",
       "\n",
       "    .dataframe tbody tr th {\n",
       "        vertical-align: top;\n",
       "    }\n",
       "\n",
       "    .dataframe thead th {\n",
       "        text-align: right;\n",
       "    }\n",
       "</style>\n",
       "<table border=\"1\" class=\"dataframe\">\n",
       "  <thead>\n",
       "    <tr style=\"text-align: right;\">\n",
       "      <th></th>\n",
       "      <th>Date</th>\n",
       "      <th>Year</th>\n",
       "      <th>Type</th>\n",
       "      <th>Country</th>\n",
       "      <th>State</th>\n",
       "      <th>Location</th>\n",
       "      <th>Activity</th>\n",
       "      <th>Name</th>\n",
       "      <th>Sex</th>\n",
       "      <th>Age</th>\n",
       "      <th>Injury</th>\n",
       "      <th>Fatal Y/N</th>\n",
       "      <th>Time</th>\n",
       "      <th>Species</th>\n",
       "      <th>Source</th>\n",
       "      <th>pdf</th>\n",
       "      <th>href formula</th>\n",
       "      <th>href</th>\n",
       "      <th>Case Number</th>\n",
       "      <th>Case Number.1</th>\n",
       "      <th>original order</th>\n",
       "      <th>Unnamed: 21</th>\n",
       "      <th>Unnamed: 22</th>\n",
       "    </tr>\n",
       "  </thead>\n",
       "  <tbody>\n",
       "    <tr>\n",
       "      <th>0</th>\n",
       "      <td>6th September</td>\n",
       "      <td>2025.0</td>\n",
       "      <td>Unprovoked</td>\n",
       "      <td>Australia</td>\n",
       "      <td>NSW</td>\n",
       "      <td>Long Reef Sydney</td>\n",
       "      <td>Surfing</td>\n",
       "      <td>Mercury Psillaskis</td>\n",
       "      <td>M</td>\n",
       "      <td>57</td>\n",
       "      <td>Both legs and arm severed</td>\n",
       "      <td>Y</td>\n",
       "      <td>0930hrs</td>\n",
       "      <td>Great White Shark</td>\n",
       "      <td>Todd Smith: Andy Currie: Simon De Marchi: Kevi...</td>\n",
       "      <td>NaN</td>\n",
       "      <td>NaN</td>\n",
       "      <td>NaN</td>\n",
       "      <td>NaN</td>\n",
       "      <td>NaN</td>\n",
       "      <td>NaN</td>\n",
       "      <td>NaN</td>\n",
       "      <td>NaN</td>\n",
       "    </tr>\n",
       "    <tr>\n",
       "      <th>1</th>\n",
       "      <td>1st September</td>\n",
       "      <td>2025.0</td>\n",
       "      <td>Unprovoked</td>\n",
       "      <td>USA</td>\n",
       "      <td>Florida</td>\n",
       "      <td>Horseshoe reef Key Largo</td>\n",
       "      <td>Snorkeling</td>\n",
       "      <td>Richard Burrows</td>\n",
       "      <td>M</td>\n",
       "      <td>8</td>\n",
       "      <td>Bite to leg</td>\n",
       "      <td>N</td>\n",
       "      <td>1524hrs</td>\n",
       "      <td>Not stated</td>\n",
       "      <td>Todd Smith: US SUN: NY Post: The Guardian: Peo...</td>\n",
       "      <td>NaN</td>\n",
       "      <td>NaN</td>\n",
       "      <td>NaN</td>\n",
       "      <td>NaN</td>\n",
       "      <td>NaN</td>\n",
       "      <td>NaN</td>\n",
       "      <td>NaN</td>\n",
       "      <td>NaN</td>\n",
       "    </tr>\n",
       "    <tr>\n",
       "      <th>2</th>\n",
       "      <td>30th August</td>\n",
       "      <td>2025.0</td>\n",
       "      <td>Unprovoked</td>\n",
       "      <td>USA</td>\n",
       "      <td>Texas</td>\n",
       "      <td>Galveston</td>\n",
       "      <td>Swimming</td>\n",
       "      <td>Harper Ochoa</td>\n",
       "      <td>F</td>\n",
       "      <td>8</td>\n",
       "      <td>Bite to leg</td>\n",
       "      <td>N</td>\n",
       "      <td>Not stated</td>\n",
       "      <td>Not stated</td>\n",
       "      <td>Bob Myatt GSAF : People:</td>\n",
       "      <td>NaN</td>\n",
       "      <td>NaN</td>\n",
       "      <td>NaN</td>\n",
       "      <td>NaN</td>\n",
       "      <td>NaN</td>\n",
       "      <td>NaN</td>\n",
       "      <td>NaN</td>\n",
       "      <td>NaN</td>\n",
       "    </tr>\n",
       "    <tr>\n",
       "      <th>3</th>\n",
       "      <td>18th August</td>\n",
       "      <td>2025.0</td>\n",
       "      <td>Unprovoked</td>\n",
       "      <td>Australia</td>\n",
       "      <td>NSW</td>\n",
       "      <td>Cabarita Beach</td>\n",
       "      <td>Surfing</td>\n",
       "      <td>Brad Ross</td>\n",
       "      <td>M</td>\n",
       "      <td>?</td>\n",
       "      <td>None sustained board severly damaged</td>\n",
       "      <td>N</td>\n",
       "      <td>0730hrs</td>\n",
       "      <td>5m (16.5ft) Great White</td>\n",
       "      <td>Bob Myatt GSAF The Guardian: 9 News: ABS News:...</td>\n",
       "      <td>NaN</td>\n",
       "      <td>NaN</td>\n",
       "      <td>NaN</td>\n",
       "      <td>NaN</td>\n",
       "      <td>NaN</td>\n",
       "      <td>NaN</td>\n",
       "      <td>NaN</td>\n",
       "      <td>NaN</td>\n",
       "    </tr>\n",
       "    <tr>\n",
       "      <th>4</th>\n",
       "      <td>17th August</td>\n",
       "      <td>2025.0</td>\n",
       "      <td>Unprovoked</td>\n",
       "      <td>Bahamas</td>\n",
       "      <td>Atlantic Ocean near Big Grand Cay</td>\n",
       "      <td>North of Grand Bahama near Freeport</td>\n",
       "      <td>Spearfishing</td>\n",
       "      <td>Not stated</td>\n",
       "      <td>M</td>\n",
       "      <td>63</td>\n",
       "      <td>Severe injuries no detail</td>\n",
       "      <td>N</td>\n",
       "      <td>1300hrs</td>\n",
       "      <td>Undetermined</td>\n",
       "      <td>Ralph Collier GSAF and Kevin MCMurray Tracking...</td>\n",
       "      <td>NaN</td>\n",
       "      <td>NaN</td>\n",
       "      <td>NaN</td>\n",
       "      <td>NaN</td>\n",
       "      <td>NaN</td>\n",
       "      <td>NaN</td>\n",
       "      <td>NaN</td>\n",
       "      <td>NaN</td>\n",
       "    </tr>\n",
       "  </tbody>\n",
       "</table>\n",
       "</div>"
      ],
      "text/plain": [
       "            Date    Year        Type    Country  \\\n",
       "0  6th September  2025.0  Unprovoked  Australia   \n",
       "1  1st September  2025.0  Unprovoked        USA   \n",
       "2    30th August  2025.0  Unprovoked        USA   \n",
       "3    18th August  2025.0  Unprovoked  Australia   \n",
       "4    17th August  2025.0  Unprovoked    Bahamas   \n",
       "\n",
       "                               State                             Location  \\\n",
       "0                                NSW                     Long Reef Sydney   \n",
       "1                            Florida             Horseshoe reef Key Largo   \n",
       "2                              Texas                            Galveston   \n",
       "3                                NSW                       Cabarita Beach   \n",
       "4  Atlantic Ocean near Big Grand Cay  North of Grand Bahama near Freeport   \n",
       "\n",
       "       Activity                Name Sex Age  \\\n",
       "0       Surfing  Mercury Psillaskis   M  57   \n",
       "1    Snorkeling     Richard Burrows   M   8   \n",
       "2      Swimming        Harper Ochoa   F   8   \n",
       "3       Surfing           Brad Ross   M   ?   \n",
       "4  Spearfishing          Not stated   M  63   \n",
       "\n",
       "                                 Injury Fatal Y/N        Time  \\\n",
       "0             Both legs and arm severed         Y     0930hrs   \n",
       "1                           Bite to leg         N     1524hrs   \n",
       "2                           Bite to leg         N  Not stated   \n",
       "3  None sustained board severly damaged         N     0730hrs   \n",
       "4             Severe injuries no detail         N     1300hrs   \n",
       "\n",
       "                  Species                                              Source  \\\n",
       "0        Great White Shark  Todd Smith: Andy Currie: Simon De Marchi: Kevi...   \n",
       "1               Not stated  Todd Smith: US SUN: NY Post: The Guardian: Peo...   \n",
       "2               Not stated                           Bob Myatt GSAF : People:   \n",
       "3  5m (16.5ft) Great White  Bob Myatt GSAF The Guardian: 9 News: ABS News:...   \n",
       "4             Undetermined  Ralph Collier GSAF and Kevin MCMurray Tracking...   \n",
       "\n",
       "   pdf href formula href Case Number Case Number.1  original order  \\\n",
       "0  NaN          NaN  NaN         NaN           NaN             NaN   \n",
       "1  NaN          NaN  NaN         NaN           NaN             NaN   \n",
       "2  NaN          NaN  NaN         NaN           NaN             NaN   \n",
       "3  NaN          NaN  NaN         NaN           NaN             NaN   \n",
       "4  NaN          NaN  NaN         NaN           NaN             NaN   \n",
       "\n",
       "  Unnamed: 21 Unnamed: 22  \n",
       "0         NaN         NaN  \n",
       "1         NaN         NaN  \n",
       "2         NaN         NaN  \n",
       "3         NaN         NaN  \n",
       "4         NaN         NaN  "
      ]
     },
     "execution_count": 32,
     "metadata": {},
     "output_type": "execute_result"
    }
   ],
   "source": [
    "# 2. Load the Shark Attacks dataset\n",
    "\n",
    "file_path = \"https://www.sharkattackfile.net/spreadsheets/GSAF5.xls\"   # points to the data folder\n",
    "df = pd.read_excel(file_path)\n",
    "\n",
    "# Show first 5 rows\n",
    "df.head()\n"
   ]
  },
  {
   "cell_type": "code",
   "execution_count": 33,
   "metadata": {},
   "outputs": [
    {
     "name": "stdout",
     "output_type": "stream",
     "text": [
      "               Date    Year        Type             Country  \\\n",
      "0     6th September  2025.0  Unprovoked           Australia   \n",
      "1     1st September  2025.0  Unprovoked                 USA   \n",
      "2       30th August  2025.0  Unprovoked                 USA   \n",
      "3       18th August  2025.0  Unprovoked           Australia   \n",
      "4       17th August  2025.0  Unprovoked             Bahamas   \n",
      "...             ...     ...         ...                 ...   \n",
      "7040    Before 1903     0.0  Unprovoked           AUSTRALIA   \n",
      "7041    Before 1903     0.0  Unprovoked           AUSTRALIA   \n",
      "7042      1900-1905     0.0  Unprovoked                 USA   \n",
      "7043      1883-1889     0.0  Unprovoked              PANAMA   \n",
      "7044      1845-1853     0.0  Unprovoked  CEYLON (SRI LANKA)   \n",
      "\n",
      "                                  State                             Location  \\\n",
      "0                                   NSW                     Long Reef Sydney   \n",
      "1                               Florida             Horseshoe reef Key Largo   \n",
      "2                                 Texas                            Galveston   \n",
      "3                                   NSW                       Cabarita Beach   \n",
      "4     Atlantic Ocean near Big Grand Cay  North of Grand Bahama near Freeport   \n",
      "...                                 ...                                  ...   \n",
      "7040                  Western Australia                          Roebuck Bay   \n",
      "7041                  Western Australia                                  NaN   \n",
      "7042                     North Carolina                       Ocracoke Inlet   \n",
      "7043                                NaN                 Panama Bay 8ºN, 79ºW   \n",
      "7044                   Eastern Province  Below the English fort, Trincomalee   \n",
      "\n",
      "          Activity                   Name Sex  Age  \\\n",
      "0          Surfing     Mercury Psillaskis   M   57   \n",
      "1       Snorkeling        Richard Burrows   M    8   \n",
      "2         Swimming           Harper Ochoa   F    8   \n",
      "3          Surfing              Brad Ross   M    ?   \n",
      "4     Spearfishing             Not stated   M   63   \n",
      "...            ...                    ...  ..  ...   \n",
      "7040        Diving                   male   M  NaN   \n",
      "7041  Pearl diving                  Ahmun   M  NaN   \n",
      "7042      Swimming  Coast Guard personnel   M  NaN   \n",
      "7043           NaN        Jules Patterson   M  NaN   \n",
      "7044      Swimming                   male   M   15   \n",
      "\n",
      "                                                 Injury Fatal Y/N        Time  \\\n",
      "0                             Both legs and arm severed         Y     0930hrs   \n",
      "1                                           Bite to leg         N     1524hrs   \n",
      "2                                           Bite to leg         N  Not stated   \n",
      "3                  None sustained board severly damaged         N     0730hrs   \n",
      "4                             Severe injuries no detail         N     1300hrs   \n",
      "...                                                 ...       ...         ...   \n",
      "7040                                              FATAL         Y         NaN   \n",
      "7041                                              FATAL         Y         NaN   \n",
      "7042                                              FATAL         Y         NaN   \n",
      "7043                                              FATAL         Y         NaN   \n",
      "7044  FATAL. \"Shark bit him in half, carrying away t...         Y         NaN   \n",
      "\n",
      "                     Species   \\\n",
      "0           Great White Shark   \n",
      "1                  Not stated   \n",
      "2                  Not stated   \n",
      "3     5m (16.5ft) Great White   \n",
      "4                Undetermined   \n",
      "...                       ...   \n",
      "7040                      NaN   \n",
      "7041                      NaN   \n",
      "7042                      NaN   \n",
      "7043                      NaN   \n",
      "7044                      NaN   \n",
      "\n",
      "                                                 Source  \\\n",
      "0     Todd Smith: Andy Currie: Simon De Marchi: Kevi...   \n",
      "1     Todd Smith: US SUN: NY Post: The Guardian: Peo...   \n",
      "2                              Bob Myatt GSAF : People:   \n",
      "3     Bob Myatt GSAF The Guardian: 9 News: ABS News:...   \n",
      "4     Ralph Collier GSAF and Kevin MCMurray Tracking...   \n",
      "...                                                 ...   \n",
      "7040                   H. Taunton; N. Bartlett,  p. 234   \n",
      "7041              H. Taunton; N. Bartlett,  pp. 233-234   \n",
      "7042               F. Schwartz, p.23; C. Creswell, GSAF   \n",
      "7043                                The Sun, 10/20/1938   \n",
      "7044                                         S.W. Baker   \n",
      "\n",
      "                                 pdf  \\\n",
      "0                                NaN   \n",
      "1                                NaN   \n",
      "2                                NaN   \n",
      "3                                NaN   \n",
      "4                                NaN   \n",
      "...                              ...   \n",
      "7040          ND-0005-RoebuckBay.pdf   \n",
      "7041               ND-0004-Ahmun.pdf   \n",
      "7042  ND-0003-Ocracoke_1900-1905.pdf   \n",
      "7043      ND-0002-JulesPatterson.pdf   \n",
      "7044              ND-0001-Ceylon.pdf   \n",
      "\n",
      "                                           href formula  \\\n",
      "0                                                   NaN   \n",
      "1                                                   NaN   \n",
      "2                                                   NaN   \n",
      "3                                                   NaN   \n",
      "4                                                   NaN   \n",
      "...                                                 ...   \n",
      "7040  http://sharkattackfile.net/spreadsheets/pdf_di...   \n",
      "7041  http://sharkattackfile.net/spreadsheets/pdf_di...   \n",
      "7042  http://sharkattackfile.net/spreadsheets/pdf_di...   \n",
      "7043  http://sharkattackfile.net/spreadsheets/pdf_di...   \n",
      "7044  http://sharkattackfile.net/spreadsheets/pdf_di...   \n",
      "\n",
      "                                                   href Case Number  \\\n",
      "0                                                   NaN         NaN   \n",
      "1                                                   NaN         NaN   \n",
      "2                                                   NaN         NaN   \n",
      "3                                                   NaN         NaN   \n",
      "4                                                   NaN         NaN   \n",
      "...                                                 ...         ...   \n",
      "7040  http://sharkattackfile.net/spreadsheets/pdf_di...     ND.0005   \n",
      "7041  http://sharkattackfile.net/spreadsheets/pdf_di...     ND.0004   \n",
      "7042  http://sharkattackfile.net/spreadsheets/pdf_di...     ND.0003   \n",
      "7043  http://sharkattackfile.net/spreadsheets/pdf_di...     ND.0002   \n",
      "7044  http://sharkattackfile.net/spreadsheets/pdf_di...     ND.0001   \n",
      "\n",
      "     Case Number.1  original order Unnamed: 21 Unnamed: 22  \n",
      "0              NaN             NaN         NaN         NaN  \n",
      "1              NaN             NaN         NaN         NaN  \n",
      "2              NaN             NaN         NaN         NaN  \n",
      "3              NaN             NaN         NaN         NaN  \n",
      "4              NaN             NaN         NaN         NaN  \n",
      "...            ...             ...         ...         ...  \n",
      "7040       ND.0005             6.0         NaN         NaN  \n",
      "7041       ND.0004             5.0         NaN         NaN  \n",
      "7042       ND.0003             4.0         NaN         NaN  \n",
      "7043       ND.0002             3.0         NaN         NaN  \n",
      "7044       ND.0001             2.0         NaN         NaN  \n",
      "\n",
      "[7045 rows x 23 columns]\n"
     ]
    }
   ],
   "source": [
    "df.tail()\n",
    "\n",
    "print (df)"
   ]
  },
  {
   "cell_type": "code",
   "execution_count": 34,
   "metadata": {},
   "outputs": [
    {
     "name": "stdout",
     "output_type": "stream",
     "text": [
      "<class 'pandas.core.frame.DataFrame'>\n",
      "RangeIndex: 7045 entries, 0 to 7044\n",
      "Data columns (total 23 columns):\n",
      " #   Column          Non-Null Count  Dtype  \n",
      "---  ------          --------------  -----  \n",
      " 0   Date            7045 non-null   object \n",
      " 1   Year            7043 non-null   float64\n",
      " 2   Type            7027 non-null   object \n",
      " 3   Country         6995 non-null   object \n",
      " 4   State           6560 non-null   object \n",
      " 5   Location        6478 non-null   object \n",
      " 6   Activity        6460 non-null   object \n",
      " 7   Name            6826 non-null   object \n",
      " 8   Sex             6466 non-null   object \n",
      " 9   Age             4051 non-null   object \n",
      " 10  Injury          7010 non-null   object \n",
      " 11  Fatal Y/N       6484 non-null   object \n",
      " 12  Time            3519 non-null   object \n",
      " 13  Species         3914 non-null   object \n",
      " 14  Source          7025 non-null   object \n",
      " 15  pdf             6799 non-null   object \n",
      " 16  href formula    6794 non-null   object \n",
      " 17  href            6796 non-null   object \n",
      " 18  Case Number     6798 non-null   object \n",
      " 19  Case Number.1   6797 non-null   object \n",
      " 20  original order  6799 non-null   float64\n",
      " 21  Unnamed: 21     1 non-null      object \n",
      " 22  Unnamed: 22     2 non-null      object \n",
      "dtypes: float64(2), object(21)\n",
      "memory usage: 1.2+ MB\n"
     ]
    },
    {
     "data": {
      "text/plain": [
       "Unnamed: 21       7044\n",
       "Unnamed: 22       7043\n",
       "Time              3526\n",
       "Species           3131\n",
       "Age               2994\n",
       "Activity           585\n",
       "Sex                579\n",
       "Location           567\n",
       "Fatal Y/N          561\n",
       "State              485\n",
       "href formula       251\n",
       "href               249\n",
       "Case Number.1      248\n",
       "Case Number        247\n",
       "pdf                246\n",
       "original order     246\n",
       "Name               219\n",
       "Country             50\n",
       "Injury              35\n",
       "Source              20\n",
       "dtype: int64"
      ]
     },
     "execution_count": 34,
     "metadata": {},
     "output_type": "execute_result"
    }
   ],
   "source": [
    "# 3. Quick inspection of dataset\n",
    "df.info()\n",
    "df.isna().sum().sort_values(ascending=False).head(20)\n"
   ]
  },
  {
   "cell_type": "code",
   "execution_count": 35,
   "metadata": {},
   "outputs": [
    {
     "data": {
      "text/plain": [
       "Date                 0\n",
       "Year                 2\n",
       "Type                18\n",
       "Country             50\n",
       "State              485\n",
       "Location           567\n",
       "Activity           585\n",
       "Name               219\n",
       "Sex                579\n",
       "Age               2994\n",
       "Injury              35\n",
       "Fatal Y/N          561\n",
       "Time              3526\n",
       "Species           3131\n",
       "Source              20\n",
       "pdf                246\n",
       "href formula       251\n",
       "href               249\n",
       "Case Number        247\n",
       "Case Number.1      248\n",
       "original order     246\n",
       "Unnamed: 21       7044\n",
       "Unnamed: 22       7043\n",
       "dtype: int64"
      ]
     },
     "execution_count": 35,
     "metadata": {},
     "output_type": "execute_result"
    }
   ],
   "source": [
    "df.isna().sum()"
   ]
  },
  {
   "cell_type": "code",
   "execution_count": 36,
   "metadata": {},
   "outputs": [
    {
     "name": "stdout",
     "output_type": "stream",
     "text": [
      "Shape before dedup: (7045, 23)\n",
      "Number of exact duplicate rows: 0\n"
     ]
    }
   ],
   "source": [
    "# Cell 4 — Drop duplicate rows and show counts before/after\n",
    "print(\"Shape before dedup:\", df.shape)\n",
    "\n",
    "# Count duplicated rows\n",
    "num_dup = df.duplicated().sum()\n",
    "print(\"Number of exact duplicate rows:\", num_dup)\n",
    "\n",
    "# Drop duplicates (in-place)\n",
    "#df = df.drop_duplicates().reset_index(drop=True)\n",
    "\n",
    "#print(\"Shape after dedup: \", df.shape)\n",
    "# Show first few rows to confirm\n",
    "#df.head()\n",
    "\n",
    "#No duplicates found, no need to drop duplicates at this point"
   ]
  },
  {
   "cell_type": "code",
   "execution_count": 37,
   "metadata": {},
   "outputs": [
    {
     "name": "stdout",
     "output_type": "stream",
     "text": [
      "Original columns: ['Date', 'Year', 'Type', 'Country', 'State', 'Location', 'Activity', 'Name', 'Sex', 'Age', 'Injury', 'Fatal Y/N', 'Time', 'Species ', 'Source', 'pdf', 'href formula', 'href', 'Case Number', 'Case Number.1', 'original order', 'Unnamed: 21', 'Unnamed: 22']\n"
     ]
    },
    {
     "name": "stdout",
     "output_type": "stream",
     "text": [
      "Standardized columns: ['date', 'year', 'type', 'country', 'state', 'location', 'activity', 'name', 'sex', 'age', 'injury', 'fatal_yn', 'time', 'species', 'source', 'pdf', 'href_formula', 'href', 'case_number', 'case_number1', 'original_order', 'unnamed_21', 'unnamed_22']\n"
     ]
    },
    {
     "data": {
      "text/html": [
       "<div>\n",
       "<style scoped>\n",
       "    .dataframe tbody tr th:only-of-type {\n",
       "        vertical-align: middle;\n",
       "    }\n",
       "\n",
       "    .dataframe tbody tr th {\n",
       "        vertical-align: top;\n",
       "    }\n",
       "\n",
       "    .dataframe thead th {\n",
       "        text-align: right;\n",
       "    }\n",
       "</style>\n",
       "<table border=\"1\" class=\"dataframe\">\n",
       "  <thead>\n",
       "    <tr style=\"text-align: right;\">\n",
       "      <th></th>\n",
       "      <th>date</th>\n",
       "      <th>year</th>\n",
       "      <th>type</th>\n",
       "      <th>country</th>\n",
       "      <th>state</th>\n",
       "      <th>location</th>\n",
       "      <th>activity</th>\n",
       "      <th>name</th>\n",
       "      <th>sex</th>\n",
       "      <th>age</th>\n",
       "    </tr>\n",
       "  </thead>\n",
       "  <tbody>\n",
       "    <tr>\n",
       "      <th>0</th>\n",
       "      <td>6th September</td>\n",
       "      <td>2025.0</td>\n",
       "      <td>Unprovoked</td>\n",
       "      <td>Australia</td>\n",
       "      <td>NSW</td>\n",
       "      <td>Long Reef Sydney</td>\n",
       "      <td>Surfing</td>\n",
       "      <td>Mercury Psillaskis</td>\n",
       "      <td>M</td>\n",
       "      <td>57</td>\n",
       "    </tr>\n",
       "    <tr>\n",
       "      <th>1</th>\n",
       "      <td>1st September</td>\n",
       "      <td>2025.0</td>\n",
       "      <td>Unprovoked</td>\n",
       "      <td>USA</td>\n",
       "      <td>Florida</td>\n",
       "      <td>Horseshoe reef Key Largo</td>\n",
       "      <td>Snorkeling</td>\n",
       "      <td>Richard Burrows</td>\n",
       "      <td>M</td>\n",
       "      <td>8</td>\n",
       "    </tr>\n",
       "    <tr>\n",
       "      <th>2</th>\n",
       "      <td>30th August</td>\n",
       "      <td>2025.0</td>\n",
       "      <td>Unprovoked</td>\n",
       "      <td>USA</td>\n",
       "      <td>Texas</td>\n",
       "      <td>Galveston</td>\n",
       "      <td>Swimming</td>\n",
       "      <td>Harper Ochoa</td>\n",
       "      <td>F</td>\n",
       "      <td>8</td>\n",
       "    </tr>\n",
       "    <tr>\n",
       "      <th>3</th>\n",
       "      <td>18th August</td>\n",
       "      <td>2025.0</td>\n",
       "      <td>Unprovoked</td>\n",
       "      <td>Australia</td>\n",
       "      <td>NSW</td>\n",
       "      <td>Cabarita Beach</td>\n",
       "      <td>Surfing</td>\n",
       "      <td>Brad Ross</td>\n",
       "      <td>M</td>\n",
       "      <td>?</td>\n",
       "    </tr>\n",
       "    <tr>\n",
       "      <th>4</th>\n",
       "      <td>17th August</td>\n",
       "      <td>2025.0</td>\n",
       "      <td>Unprovoked</td>\n",
       "      <td>Bahamas</td>\n",
       "      <td>Atlantic Ocean near Big Grand Cay</td>\n",
       "      <td>North of Grand Bahama near Freeport</td>\n",
       "      <td>Spearfishing</td>\n",
       "      <td>Not stated</td>\n",
       "      <td>M</td>\n",
       "      <td>63</td>\n",
       "    </tr>\n",
       "  </tbody>\n",
       "</table>\n",
       "</div>"
      ],
      "text/plain": [
       "            date    year        type    country  \\\n",
       "0  6th September  2025.0  Unprovoked  Australia   \n",
       "1  1st September  2025.0  Unprovoked        USA   \n",
       "2    30th August  2025.0  Unprovoked        USA   \n",
       "3    18th August  2025.0  Unprovoked  Australia   \n",
       "4    17th August  2025.0  Unprovoked    Bahamas   \n",
       "\n",
       "                               state                             location  \\\n",
       "0                                NSW                     Long Reef Sydney   \n",
       "1                            Florida             Horseshoe reef Key Largo   \n",
       "2                              Texas                            Galveston   \n",
       "3                                NSW                       Cabarita Beach   \n",
       "4  Atlantic Ocean near Big Grand Cay  North of Grand Bahama near Freeport   \n",
       "\n",
       "       activity                name sex age  \n",
       "0       Surfing  Mercury Psillaskis   M  57  \n",
       "1    Snorkeling     Richard Burrows   M   8  \n",
       "2      Swimming        Harper Ochoa   F   8  \n",
       "3       Surfing           Brad Ross   M   ?  \n",
       "4  Spearfishing          Not stated   M  63  "
      ]
     },
     "execution_count": 37,
     "metadata": {},
     "output_type": "execute_result"
    }
   ],
   "source": [
    "# Cell 5 — Standardize column names\n",
    "# Save original columns for reference\n",
    "original_cols = df.columns.tolist()\n",
    "print(\"Original columns:\", original_cols)\n",
    "\n",
    "# Standardize: strip, lower, replace spaces with underscores, remove weird chars\n",
    "df.columns = (\n",
    "    df.columns\n",
    "      .astype(str)\n",
    "      .str.strip()\n",
    "      .str.lower()\n",
    "      .str.replace(\" \", \"_\")\n",
    "      .str.replace(r\"[^\\w_]\", \"\", regex=True) #keep only alphanumeric and underscores\n",
    ")\n",
    "\n",
    "print(\"Standardized columns:\", df.columns.tolist())\n",
    "\n",
    "# Optional: preview a few columns and types\n",
    "df.iloc[:, :10].head()  # show first 10 columns (or change slice)\n"
   ]
  },
  {
   "cell_type": "code",
   "execution_count": 38,
   "metadata": {},
   "outputs": [
    {
     "name": "stdout",
     "output_type": "stream",
     "text": [
      "Age column candidates found: ['age']\n",
      "Using age column: age\n"
     ]
    },
    {
     "name": "stdout",
     "output_type": "stream",
     "text": [
      "Sample age values (raw): ['17' '24' '22' '27' '10' '32' '19' '14' '34' '33' '36' '18' 'teen' '42'\n",
      " '30' '20s' '23']\n",
      "Missing in original 'age': 2994\n",
      "Missing in cleaned 'age_clean': 3039\n",
      "Age summary (clean):\n"
     ]
    },
    {
     "data": {
      "text/plain": [
       "count    4006.000000\n",
       "mean       28.128058\n",
       "std        14.654552\n",
       "min         1.000000\n",
       "25%        17.000000\n",
       "50%        24.000000\n",
       "75%        37.000000\n",
       "max        87.000000\n",
       "Name: age_clean, dtype: float64"
      ]
     },
     "metadata": {},
     "output_type": "display_data"
    },
    {
     "data": {
      "text/html": [
       "<div>\n",
       "<style scoped>\n",
       "    .dataframe tbody tr th:only-of-type {\n",
       "        vertical-align: middle;\n",
       "    }\n",
       "\n",
       "    .dataframe tbody tr th {\n",
       "        vertical-align: top;\n",
       "    }\n",
       "\n",
       "    .dataframe thead th {\n",
       "        text-align: right;\n",
       "    }\n",
       "</style>\n",
       "<table border=\"1\" class=\"dataframe\">\n",
       "  <thead>\n",
       "    <tr style=\"text-align: right;\">\n",
       "      <th></th>\n",
       "      <th>age</th>\n",
       "      <th>age_clean</th>\n",
       "    </tr>\n",
       "  </thead>\n",
       "  <tbody>\n",
       "    <tr>\n",
       "      <th>0</th>\n",
       "      <td>57</td>\n",
       "      <td>57.0</td>\n",
       "    </tr>\n",
       "    <tr>\n",
       "      <th>1</th>\n",
       "      <td>8</td>\n",
       "      <td>8.0</td>\n",
       "    </tr>\n",
       "    <tr>\n",
       "      <th>2</th>\n",
       "      <td>8</td>\n",
       "      <td>8.0</td>\n",
       "    </tr>\n",
       "    <tr>\n",
       "      <th>4</th>\n",
       "      <td>63</td>\n",
       "      <td>63.0</td>\n",
       "    </tr>\n",
       "    <tr>\n",
       "      <th>6</th>\n",
       "      <td>9</td>\n",
       "      <td>9.0</td>\n",
       "    </tr>\n",
       "    <tr>\n",
       "      <th>7</th>\n",
       "      <td>39</td>\n",
       "      <td>39.0</td>\n",
       "    </tr>\n",
       "    <tr>\n",
       "      <th>8</th>\n",
       "      <td>19</td>\n",
       "      <td>19.0</td>\n",
       "    </tr>\n",
       "    <tr>\n",
       "      <th>9</th>\n",
       "      <td>7</td>\n",
       "      <td>7.0</td>\n",
       "    </tr>\n",
       "    <tr>\n",
       "      <th>10</th>\n",
       "      <td>85</td>\n",
       "      <td>85.0</td>\n",
       "    </tr>\n",
       "    <tr>\n",
       "      <th>12</th>\n",
       "      <td>69</td>\n",
       "      <td>69.0</td>\n",
       "    </tr>\n",
       "  </tbody>\n",
       "</table>\n",
       "</div>"
      ],
      "text/plain": [
       "   age  age_clean\n",
       "0   57       57.0\n",
       "1    8        8.0\n",
       "2    8        8.0\n",
       "4   63       63.0\n",
       "6    9        9.0\n",
       "7   39       39.0\n",
       "8   19       19.0\n",
       "9    7        7.0\n",
       "10  85       85.0\n",
       "12  69       69.0"
      ]
     },
     "metadata": {},
     "output_type": "display_data"
    }
   ],
   "source": [
    "# Cell 6 — Clean age column\n",
    "age_col_candidates = [c for c in df.columns if \"age\" in c]\n",
    "print(\"Age column candidates found:\", age_col_candidates)\n",
    "\n",
    "if len(age_col_candidates) == 0:\n",
    "    print(\"No column with 'age' in its name found. Please check column names.\")\n",
    "else:\n",
    "    # choose the first candidate as age column\n",
    "    age_col = age_col_candidates[0]\n",
    "    print(\"Using age column:\", age_col)\n",
    "\n",
    "    # 1) Inspect a sample of unique values to understand formats\n",
    "    sample_vals = df[age_col].dropna().astype(str).sample(min(20, df.shape[0]), random_state=1).unique()\n",
    "    print(\"Sample age values (raw):\", sample_vals)\n",
    "\n",
    "    # 2) Extract first number found in the string (handles \"23\", \"23 yrs\", \"about 23\", \"23-24\", etc.)\n",
    "    df[age_col + \"_clean\"] = (\n",
    "        df[age_col].astype(str)\n",
    "                    .str.extract(r\"(\\d{1,3})\")  # capture 1-3 digit numbers\n",
    "                    .astype(float) #is it better as a int?\n",
    "    )\n",
    "\n",
    "    #MAYBE WE SHOULD ALSO PUT SOME CONDITION TO DEAL WITH \"TEENS\" OR \"CHILD\" VALUES?\n",
    "\n",
    "    # 3) If extraction produced NaN for many rows, you can try alternative approaches\n",
    "    missing_before = df[age_col].isna().sum()\n",
    "    missing_after = df[age_col + \"_clean\"].isna().sum()\n",
    "    print(f\"Missing in original '{age_col}':\", missing_before)\n",
    "    print(f\"Missing in cleaned '{age_col}_clean':\", missing_after) #increased missing values after cleaning\n",
    "\n",
    "    # 4) Quick sanity checks and value distribution\n",
    "    print(\"Age summary (clean):\")\n",
    "    display(df[age_col + \"_clean\"].describe())\n",
    "\n",
    "    # 5) Preview original vs cleaned for first 10 non-null rows\n",
    "    preview = df[[age_col, age_col + \"_clean\"]].dropna().head(10)\n",
    "    display(preview)\n"
   ]
  },
  {
   "cell_type": "code",
   "execution_count": 39,
   "metadata": {},
   "outputs": [
    {
     "data": {
      "text/html": [
       "<div>\n",
       "<style scoped>\n",
       "    .dataframe tbody tr th:only-of-type {\n",
       "        vertical-align: middle;\n",
       "    }\n",
       "\n",
       "    .dataframe tbody tr th {\n",
       "        vertical-align: top;\n",
       "    }\n",
       "\n",
       "    .dataframe thead th {\n",
       "        text-align: right;\n",
       "    }\n",
       "</style>\n",
       "<table border=\"1\" class=\"dataframe\">\n",
       "  <thead>\n",
       "    <tr style=\"text-align: right;\">\n",
       "      <th></th>\n",
       "      <th>date</th>\n",
       "      <th>year</th>\n",
       "      <th>type</th>\n",
       "      <th>country</th>\n",
       "      <th>state</th>\n",
       "      <th>location</th>\n",
       "      <th>activity</th>\n",
       "      <th>name</th>\n",
       "      <th>sex</th>\n",
       "      <th>age</th>\n",
       "      <th>injury</th>\n",
       "      <th>fatal_yn</th>\n",
       "      <th>time</th>\n",
       "      <th>species</th>\n",
       "      <th>source</th>\n",
       "      <th>pdf</th>\n",
       "      <th>href_formula</th>\n",
       "      <th>href</th>\n",
       "      <th>case_number</th>\n",
       "      <th>case_number1</th>\n",
       "      <th>original_order</th>\n",
       "      <th>age_clean</th>\n",
       "    </tr>\n",
       "  </thead>\n",
       "  <tbody>\n",
       "    <tr>\n",
       "      <th>0</th>\n",
       "      <td>6th September</td>\n",
       "      <td>2025.0</td>\n",
       "      <td>Unprovoked</td>\n",
       "      <td>Australia</td>\n",
       "      <td>NSW</td>\n",
       "      <td>Long Reef Sydney</td>\n",
       "      <td>Surfing</td>\n",
       "      <td>Mercury Psillaskis</td>\n",
       "      <td>M</td>\n",
       "      <td>57</td>\n",
       "      <td>Both legs and arm severed</td>\n",
       "      <td>Y</td>\n",
       "      <td>0930hrs</td>\n",
       "      <td>Great White Shark</td>\n",
       "      <td>Todd Smith: Andy Currie: Simon De Marchi: Kevi...</td>\n",
       "      <td>NaN</td>\n",
       "      <td>NaN</td>\n",
       "      <td>NaN</td>\n",
       "      <td>NaN</td>\n",
       "      <td>NaN</td>\n",
       "      <td>NaN</td>\n",
       "      <td>57.0</td>\n",
       "    </tr>\n",
       "    <tr>\n",
       "      <th>1</th>\n",
       "      <td>1st September</td>\n",
       "      <td>2025.0</td>\n",
       "      <td>Unprovoked</td>\n",
       "      <td>USA</td>\n",
       "      <td>Florida</td>\n",
       "      <td>Horseshoe reef Key Largo</td>\n",
       "      <td>Snorkeling</td>\n",
       "      <td>Richard Burrows</td>\n",
       "      <td>M</td>\n",
       "      <td>8</td>\n",
       "      <td>Bite to leg</td>\n",
       "      <td>N</td>\n",
       "      <td>1524hrs</td>\n",
       "      <td>Not stated</td>\n",
       "      <td>Todd Smith: US SUN: NY Post: The Guardian: Peo...</td>\n",
       "      <td>NaN</td>\n",
       "      <td>NaN</td>\n",
       "      <td>NaN</td>\n",
       "      <td>NaN</td>\n",
       "      <td>NaN</td>\n",
       "      <td>NaN</td>\n",
       "      <td>8.0</td>\n",
       "    </tr>\n",
       "    <tr>\n",
       "      <th>2</th>\n",
       "      <td>30th August</td>\n",
       "      <td>2025.0</td>\n",
       "      <td>Unprovoked</td>\n",
       "      <td>USA</td>\n",
       "      <td>Texas</td>\n",
       "      <td>Galveston</td>\n",
       "      <td>Swimming</td>\n",
       "      <td>Harper Ochoa</td>\n",
       "      <td>F</td>\n",
       "      <td>8</td>\n",
       "      <td>Bite to leg</td>\n",
       "      <td>N</td>\n",
       "      <td>Not stated</td>\n",
       "      <td>Not stated</td>\n",
       "      <td>Bob Myatt GSAF : People:</td>\n",
       "      <td>NaN</td>\n",
       "      <td>NaN</td>\n",
       "      <td>NaN</td>\n",
       "      <td>NaN</td>\n",
       "      <td>NaN</td>\n",
       "      <td>NaN</td>\n",
       "      <td>8.0</td>\n",
       "    </tr>\n",
       "    <tr>\n",
       "      <th>3</th>\n",
       "      <td>18th August</td>\n",
       "      <td>2025.0</td>\n",
       "      <td>Unprovoked</td>\n",
       "      <td>Australia</td>\n",
       "      <td>NSW</td>\n",
       "      <td>Cabarita Beach</td>\n",
       "      <td>Surfing</td>\n",
       "      <td>Brad Ross</td>\n",
       "      <td>M</td>\n",
       "      <td>?</td>\n",
       "      <td>None sustained board severly damaged</td>\n",
       "      <td>N</td>\n",
       "      <td>0730hrs</td>\n",
       "      <td>5m (16.5ft) Great White</td>\n",
       "      <td>Bob Myatt GSAF The Guardian: 9 News: ABS News:...</td>\n",
       "      <td>NaN</td>\n",
       "      <td>NaN</td>\n",
       "      <td>NaN</td>\n",
       "      <td>NaN</td>\n",
       "      <td>NaN</td>\n",
       "      <td>NaN</td>\n",
       "      <td>NaN</td>\n",
       "    </tr>\n",
       "    <tr>\n",
       "      <th>4</th>\n",
       "      <td>17th August</td>\n",
       "      <td>2025.0</td>\n",
       "      <td>Unprovoked</td>\n",
       "      <td>Bahamas</td>\n",
       "      <td>Atlantic Ocean near Big Grand Cay</td>\n",
       "      <td>North of Grand Bahama near Freeport</td>\n",
       "      <td>Spearfishing</td>\n",
       "      <td>Not stated</td>\n",
       "      <td>M</td>\n",
       "      <td>63</td>\n",
       "      <td>Severe injuries no detail</td>\n",
       "      <td>N</td>\n",
       "      <td>1300hrs</td>\n",
       "      <td>Undetermined</td>\n",
       "      <td>Ralph Collier GSAF and Kevin MCMurray Tracking...</td>\n",
       "      <td>NaN</td>\n",
       "      <td>NaN</td>\n",
       "      <td>NaN</td>\n",
       "      <td>NaN</td>\n",
       "      <td>NaN</td>\n",
       "      <td>NaN</td>\n",
       "      <td>63.0</td>\n",
       "    </tr>\n",
       "  </tbody>\n",
       "</table>\n",
       "</div>"
      ],
      "text/plain": [
       "            date    year        type    country  \\\n",
       "0  6th September  2025.0  Unprovoked  Australia   \n",
       "1  1st September  2025.0  Unprovoked        USA   \n",
       "2    30th August  2025.0  Unprovoked        USA   \n",
       "3    18th August  2025.0  Unprovoked  Australia   \n",
       "4    17th August  2025.0  Unprovoked    Bahamas   \n",
       "\n",
       "                               state                             location  \\\n",
       "0                                NSW                     Long Reef Sydney   \n",
       "1                            Florida             Horseshoe reef Key Largo   \n",
       "2                              Texas                            Galveston   \n",
       "3                                NSW                       Cabarita Beach   \n",
       "4  Atlantic Ocean near Big Grand Cay  North of Grand Bahama near Freeport   \n",
       "\n",
       "       activity                name sex age  \\\n",
       "0       Surfing  Mercury Psillaskis   M  57   \n",
       "1    Snorkeling     Richard Burrows   M   8   \n",
       "2      Swimming        Harper Ochoa   F   8   \n",
       "3       Surfing           Brad Ross   M   ?   \n",
       "4  Spearfishing          Not stated   M  63   \n",
       "\n",
       "                                 injury fatal_yn        time  \\\n",
       "0             Both legs and arm severed        Y     0930hrs   \n",
       "1                           Bite to leg        N     1524hrs   \n",
       "2                           Bite to leg        N  Not stated   \n",
       "3  None sustained board severly damaged        N     0730hrs   \n",
       "4             Severe injuries no detail        N     1300hrs   \n",
       "\n",
       "                   species                                             source  \\\n",
       "0        Great White Shark  Todd Smith: Andy Currie: Simon De Marchi: Kevi...   \n",
       "1               Not stated  Todd Smith: US SUN: NY Post: The Guardian: Peo...   \n",
       "2               Not stated                           Bob Myatt GSAF : People:   \n",
       "3  5m (16.5ft) Great White  Bob Myatt GSAF The Guardian: 9 News: ABS News:...   \n",
       "4             Undetermined  Ralph Collier GSAF and Kevin MCMurray Tracking...   \n",
       "\n",
       "   pdf href_formula href case_number case_number1  original_order  age_clean  \n",
       "0  NaN          NaN  NaN         NaN          NaN             NaN       57.0  \n",
       "1  NaN          NaN  NaN         NaN          NaN             NaN        8.0  \n",
       "2  NaN          NaN  NaN         NaN          NaN             NaN        8.0  \n",
       "3  NaN          NaN  NaN         NaN          NaN             NaN        NaN  \n",
       "4  NaN          NaN  NaN         NaN          NaN             NaN       63.0  "
      ]
     },
     "execution_count": 39,
     "metadata": {},
     "output_type": "execute_result"
    }
   ],
   "source": [
    "#Cell 7 - NEW CELL FROM SOFIA - Drop last two columns\n",
    "df = df.drop(columns=[\"unnamed_22\", \"unnamed_21\"])\n",
    "\n",
    "df.head()"
   ]
  },
  {
   "cell_type": "code",
   "execution_count": 40,
   "metadata": {},
   "outputs": [
    {
     "name": "stdout",
     "output_type": "stream",
     "text": [
      "Sex column candidates: ['sex']\n",
      "Using sex column: sex\n"
     ]
    },
    {
     "data": {
      "text/plain": [
       "sex\n",
       "m        5654\n",
       "f         807\n",
       "nan       579\n",
       "n           2\n",
       "lli         1\n",
       "m x 2       1\n",
       ".           1\n",
       "Name: count, dtype: int64"
      ]
     },
     "metadata": {},
     "output_type": "display_data"
    },
    {
     "name": "stdout",
     "output_type": "stream",
     "text": [
      "Cleaned sex value counts:\n"
     ]
    },
    {
     "data": {
      "text/plain": [
       "sex_clean\n",
       "Male       5655\n",
       "Female      807\n",
       "unknown     583\n",
       "Name: count, dtype: int64"
      ]
     },
     "metadata": {},
     "output_type": "display_data"
    }
   ],
   "source": [
    "# Cell 8 — Standardize sex/gender column\n",
    "\n",
    "sex_candidates = [c for c in df.columns if c in ['sex', 'gender'] or 'sex' in c or 'gender' in c]\n",
    "print(\"Sex column candidates:\", sex_candidates)\n",
    "\n",
    "if not sex_candidates:\n",
    "    print(\"No sex/gender column found. Skip this step.\")\n",
    "else:\n",
    "    sex_col = sex_candidates[0]\n",
    "    print(\"Using sex column:\", sex_col)\n",
    "    \n",
    "    # Normalize strings\n",
    "    df[sex_col] = df[sex_col].astype(str).str.strip().str.lower()\n",
    "    \n",
    "    # Map common variants to 'Male', 'Female', keep others as 'unknown'\n",
    "    mapping = {\n",
    "        'm': 'Male', 'male': 'Male', 'man': 'Male',\n",
    "        'f': 'Female', 'female': 'Female', 'woman': 'Female',\n",
    "        'unknown': 'unknown', 'nan': None, 'none': None\n",
    "    }\n",
    "    df['sex_clean'] = df[sex_col].map(mapping).fillna(\n",
    "                        df[sex_col].apply(lambda x: 'Male' if x.lower().startswith('m') else\n",
    "                                                  'Female' if x.lower().startswith('f') else\n",
    "                                                  'unknown')\n",
    "                      )\n",
    "    \n",
    "    # Final tidy (replace possible 'none'/'nan')\n",
    "    df['sex_clean'] = df['sex_clean'].replace({'None': None, 'nan': None})\n",
    "    \n",
    "    # Preview counts\n",
    "    display(df[sex_col].value_counts(dropna=False).head(10))\n",
    "    print(\"Cleaned sex value counts:\")\n",
    "    display(df['sex_clean'].value_counts(dropna=False))\n"
   ]
  },
  {
   "cell_type": "code",
   "execution_count": 41,
   "metadata": {},
   "outputs": [
    {
     "name": "stdout",
     "output_type": "stream",
     "text": [
      "Activity candidates: ['activity']\n",
      "Using activity column: activity\n"
     ]
    },
    {
     "data": {
      "text/html": [
       "<div>\n",
       "<style scoped>\n",
       "    .dataframe tbody tr th:only-of-type {\n",
       "        vertical-align: middle;\n",
       "    }\n",
       "\n",
       "    .dataframe tbody tr th {\n",
       "        vertical-align: top;\n",
       "    }\n",
       "\n",
       "    .dataframe thead th {\n",
       "        text-align: right;\n",
       "    }\n",
       "</style>\n",
       "<table border=\"1\" class=\"dataframe\">\n",
       "  <thead>\n",
       "    <tr style=\"text-align: right;\">\n",
       "      <th></th>\n",
       "      <th>activity</th>\n",
       "      <th>activity_group</th>\n",
       "    </tr>\n",
       "  </thead>\n",
       "  <tbody>\n",
       "    <tr>\n",
       "      <th>0</th>\n",
       "      <td>surfing</td>\n",
       "      <td>surfing</td>\n",
       "    </tr>\n",
       "    <tr>\n",
       "      <th>1</th>\n",
       "      <td>snorkeling</td>\n",
       "      <td>swimming</td>\n",
       "    </tr>\n",
       "    <tr>\n",
       "      <th>2</th>\n",
       "      <td>swimming</td>\n",
       "      <td>swimming</td>\n",
       "    </tr>\n",
       "    <tr>\n",
       "      <th>3</th>\n",
       "      <td>surfing</td>\n",
       "      <td>surfing</td>\n",
       "    </tr>\n",
       "    <tr>\n",
       "      <th>4</th>\n",
       "      <td>spearfishing</td>\n",
       "      <td>fishing</td>\n",
       "    </tr>\n",
       "    <tr>\n",
       "      <th>5</th>\n",
       "      <td>fishing</td>\n",
       "      <td>fishing</td>\n",
       "    </tr>\n",
       "    <tr>\n",
       "      <th>6</th>\n",
       "      <td>surfing</td>\n",
       "      <td>surfing</td>\n",
       "    </tr>\n",
       "    <tr>\n",
       "      <th>7</th>\n",
       "      <td>wading</td>\n",
       "      <td>other</td>\n",
       "    </tr>\n",
       "    <tr>\n",
       "      <th>8</th>\n",
       "      <td>kayaking</td>\n",
       "      <td>boating</td>\n",
       "    </tr>\n",
       "    <tr>\n",
       "      <th>9</th>\n",
       "      <td>swimming</td>\n",
       "      <td>swimming</td>\n",
       "    </tr>\n",
       "    <tr>\n",
       "      <th>10</th>\n",
       "      <td>swimming</td>\n",
       "      <td>swimming</td>\n",
       "    </tr>\n",
       "    <tr>\n",
       "      <th>11</th>\n",
       "      <td>surfing (hydrofoiling)</td>\n",
       "      <td>surfing</td>\n",
       "    </tr>\n",
       "    <tr>\n",
       "      <th>12</th>\n",
       "      <td>diving</td>\n",
       "      <td>diving</td>\n",
       "    </tr>\n",
       "    <tr>\n",
       "      <th>13</th>\n",
       "      <td>surfing</td>\n",
       "      <td>surfing</td>\n",
       "    </tr>\n",
       "    <tr>\n",
       "      <th>14</th>\n",
       "      <td>spearfishing</td>\n",
       "      <td>fishing</td>\n",
       "    </tr>\n",
       "    <tr>\n",
       "      <th>15</th>\n",
       "      <td>fishing</td>\n",
       "      <td>fishing</td>\n",
       "    </tr>\n",
       "    <tr>\n",
       "      <th>16</th>\n",
       "      <td>surfing</td>\n",
       "      <td>surfing</td>\n",
       "    </tr>\n",
       "    <tr>\n",
       "      <th>17</th>\n",
       "      <td>fishing</td>\n",
       "      <td>fishing</td>\n",
       "    </tr>\n",
       "    <tr>\n",
       "      <th>18</th>\n",
       "      <td>swimming</td>\n",
       "      <td>swimming</td>\n",
       "    </tr>\n",
       "    <tr>\n",
       "      <th>19</th>\n",
       "      <td>swimming</td>\n",
       "      <td>swimming</td>\n",
       "    </tr>\n",
       "  </tbody>\n",
       "</table>\n",
       "</div>"
      ],
      "text/plain": [
       "                  activity activity_group\n",
       "0                  surfing        surfing\n",
       "1               snorkeling       swimming\n",
       "2                 swimming       swimming\n",
       "3                  surfing        surfing\n",
       "4             spearfishing        fishing\n",
       "5                  fishing        fishing\n",
       "6                  surfing        surfing\n",
       "7                   wading          other\n",
       "8                 kayaking        boating\n",
       "9                 swimming       swimming\n",
       "10                swimming       swimming\n",
       "11  surfing (hydrofoiling)        surfing\n",
       "12                  diving         diving\n",
       "13                 surfing        surfing\n",
       "14            spearfishing        fishing\n",
       "15                 fishing        fishing\n",
       "16                 surfing        surfing\n",
       "17                 fishing        fishing\n",
       "18                swimming       swimming\n",
       "19                swimming       swimming"
      ]
     },
     "metadata": {},
     "output_type": "display_data"
    },
    {
     "name": "stdout",
     "output_type": "stream",
     "text": [
      "Activity group counts:\n"
     ]
    },
    {
     "data": {
      "text/plain": [
       "activity_group\n",
       "other          1453\n",
       "surfing        1452\n",
       "swimming       1403\n",
       "fishing        1234\n",
       "diving          639\n",
       "unknown         587\n",
       "boating         234\n",
       "paddleboard      43\n",
       "Name: count, dtype: int64"
      ]
     },
     "metadata": {},
     "output_type": "display_data"
    }
   ],
   "source": [
    "# Cell 9 — Group activities into buckets (surfing, swimming, diving, fishing, boating, other)\n",
    "\n",
    "# Find activity column\n",
    "activity_candidates = [c for c in df.columns if 'activity' in c or 'activity' in c.lower()]\n",
    "activity_candidates = activity_candidates or [c for c in df.columns if 'act' in c.lower()]\n",
    "print(\"Activity candidates:\", activity_candidates)\n",
    "\n",
    "if not activity_candidates:\n",
    "    print(\"No activity column found; check column names.\")\n",
    "else:\n",
    "    act_col = activity_candidates[0]\n",
    "    print(\"Using activity column:\", act_col)\n",
    "    \n",
    "    # Normalize text\n",
    "    df[act_col] = df[act_col].astype(str).str.lower().str.strip()\n",
    "    \n",
    "    # Define mapping function using keywords\n",
    "    def map_activity_text(text):\n",
    "        if pd.isna(text) or text in ['nan', 'none', '']:\n",
    "            return 'unknown'\n",
    "        t = text.lower()\n",
    "        if any(k in t for k in ['surf', 'surfer']):\n",
    "            return 'surfing'\n",
    "        if any(k in t for k in ['swim', 'snorkel', 'wade', 'swimmer']):\n",
    "            return 'swimming'\n",
    "        if any(k in t for k in ['div', 'scuba', 'snork', 'freediv', 'free dive']):\n",
    "            return 'diving'\n",
    "        if any(k in t for k in ['fish', 'fishing', 'angling']):\n",
    "            return 'fishing'\n",
    "        if any(k in t for k in ['boat', 'kayak', 'ship', 'vessel', 'sea plane', 'sail']):\n",
    "            return 'boating'\n",
    "        if any(k in t for k in ['stand up paddle', 'paddle', 'paddleboard', 'paddling']): #added paddling\n",
    "            return 'paddleboard'\n",
    "        # Add more heuristics as needed\n",
    "        return 'other'\n",
    "    \n",
    "    df['activity_group'] = df[act_col].apply(map_activity_text)\n",
    "    display(df[[act_col, 'activity_group']].dropna().head(20))\n",
    "    print(\"Activity group counts:\")\n",
    "    display(df['activity_group'].value_counts())\n"
   ]
  },
  {
   "cell_type": "code",
   "execution_count": 44,
   "metadata": {},
   "outputs": [],
   "source": [
    "df_act_na = df[(df[\"activity_group\"] == 'unknown') | (df[\"activity_group\"] == 'other')]\n",
    "df_act_na.shape\n",
    "\n",
    "df_act_na.to_csv(r\"C:\\Users\\Sofia\\Documents\\IronHack\\Module2\\Project\\data-cleaning-pandas\\data\\df_act_na.csv\")"
   ]
  },
  {
   "cell_type": "code",
   "execution_count": 14,
   "metadata": {},
   "outputs": [
    {
     "name": "stdout",
     "output_type": "stream",
     "text": [
      "Fatal candidates: ['fatal_yn']\n",
      "Using fatal column: fatal_yn\n",
      "Using age clean column: age_clean\n"
     ]
    },
    {
     "data": {
      "text/plain": [
       "fatal_flag\n",
       "0.0           5481\n",
       "1.0           1484\n",
       "NaN             80\n",
       "Name: count, dtype: int64"
      ]
     },
     "metadata": {},
     "output_type": "display_data"
    }
   ],
   "source": [
    "# Cell 10 — Derive fatal flag and some useful indicators\n",
    "\n",
    "# Find candidate fatal column names\n",
    "fatal_candidates = [c for c in df.columns if 'fatal' in c or 'death' in c or 'fatal_(y' in c]\n",
    "print(\"Fatal candidates:\", fatal_candidates)\n",
    "\n",
    "if not fatal_candidates:\n",
    "    print(\"No explicit fatal column found. Attempting to infer from likely columns.\")\n",
    "    # try to infer from a common column name 'fatal_(y/n)'\n",
    "    if 'fatal_(y_n)' in df.columns:\n",
    "        fc = 'fatal_(y_n)'\n",
    "    elif 'fatal_(y/n)' in df.columns:\n",
    "        fc = 'fatal_(y/n)'\n",
    "    else:\n",
    "        fc = None\n",
    "else:\n",
    "    fc = fatal_candidates[0]\n",
    "    print(\"Using fatal column:\", fc)\n",
    "\n",
    "if fc:\n",
    "    df[fc] = df[fc].astype(str).str.strip().str.upper()\n",
    "    df['fatal_flag'] = df[fc].map(lambda x: 1 if x.startswith('Y') else (0 if x.startswith('N') else None))\n",
    "else:\n",
    "    # If no column, create based on 'outcome' or similar heuristics\n",
    "    df['fatal_flag'] = None\n",
    "\n",
    "# Create a simple 'is_young' feature (age < 30) if age_clean exists\n",
    "age_col_clean = [c for c in df.columns if c.endswith('_clean') and 'age' in c]\n",
    "if age_col_clean:\n",
    "    ac = age_col_clean[0]\n",
    "    df['is_young'] = df[ac].apply(lambda x: 1 if pd.notnull(x) and x < 30 else 0 if pd.notnull(x) else None)\n",
    "    print(\"Using age clean column:\", ac)\n",
    "else:\n",
    "    print(\"No cleaned age column found; skip young flag.\")\n",
    "\n",
    "# Quick check\n",
    "display(df[['fatal_flag']].value_counts(dropna=False))\n"
   ]
  },
  {
   "cell_type": "code",
   "execution_count": 15,
   "metadata": {},
   "outputs": [
    {
     "data": {
      "text/plain": [
       "0       Y\n",
       "1       N\n",
       "2       N\n",
       "3       N\n",
       "4       N\n",
       "       ..\n",
       "7040    Y\n",
       "7041    Y\n",
       "7042    Y\n",
       "7043    Y\n",
       "7044    Y\n",
       "Name: fatal_yn, Length: 7045, dtype: object"
      ]
     },
     "execution_count": 15,
     "metadata": {},
     "output_type": "execute_result"
    }
   ],
   "source": [
    "df[\"fatal_yn\"]"
   ]
  },
  {
   "cell_type": "code",
   "execution_count": 16,
   "metadata": {},
   "outputs": [
    {
     "data": {
      "text/plain": [
       "(35, 26)"
      ]
     },
     "execution_count": 16,
     "metadata": {},
     "output_type": "execute_result"
    }
   ],
   "source": [
    "df_inj_na = df[df[\"injury\"].isna()] #just to see the NA values for injury\n",
    "\n",
    "df_inj_na.shape #35 NAs in the injury column"
   ]
  },
  {
   "cell_type": "code",
   "execution_count": 17,
   "metadata": {},
   "outputs": [
    {
     "data": {
      "text/plain": [
       "(142, 27)"
      ]
     },
     "execution_count": 17,
     "metadata": {},
     "output_type": "execute_result"
    }
   ],
   "source": [
    "# Cell NEW SOFIA - SCORE FOR INJURY SEVERITY\n",
    "\n",
    "def injury_score(row):\n",
    "    x = str(row[\"fatal_yn\"]).lower()\n",
    "    y = str(row[\"injury\"]).lower()\n",
    "    fatal_terms = ['fatal', 'death', 'dead', 'drown', 'killed', 'mortality', 'perished', 'succumbed', 'expired', 'missing', 'scaveng', 'remains']\n",
    "    if any(flag in x for flag in [\"y\", \"f\"]) or any(term in y for term in fatal_terms):\n",
    "        return 4\n",
    "    elif any(term in y for term in ['none', 'no', 'uninjured', 'unharmed', 'bump', 'escaped', 'safe', 'evaded', 'avoided', 'untouched', 'survive']):\n",
    "        return 0\n",
    "    elif any(term in y for term in ['severe', 'serious', 'bad', 'major', 'critical', 'amputat', 'both', 'lost', 'extensive', 'life-threatening', 'trauma', 'mutilated', 'disfigured', 'shattered', 'fracture', 'hemorrhage', 'severt', 'remove', 'moul']):\n",
    "        return 3\n",
    "    elif any(term in y for term in ['bit', 'nipped', 'injur', 'wound', 'puncture', 'gash', 'deep', 'hospitalized', 'treated', 'almost', 'recovered', 'abraded', 'broke']):\n",
    "        return 2\n",
    "    elif any(term in y for term in ['minor', 'scratch', 'bruise', 'cut', 'lacerat', 'abrasion', 'graze', 'nick', 'scrap', 'superficial', 'slight', 'small', 'mark', 'struck']):\n",
    "        return 1\n",
    "        #else:\n",
    "        #return 0  # or some other value for unclassified injuries\n",
    "\n",
    "df[\"injury_score\"] = df.apply(injury_score, axis=1)\n",
    "\n",
    "df_na_score = df[df[\"injury_score\"].isna()]\n",
    "df_na_score.shape\n",
    "\n",
    "#df_na_score.to_csv(r\"C:\\Users\\Sofia\\Documents\\IronHack\\Module2\\Project\\data-cleaning-pandas\\data\\injury_score_na.csv\")"
   ]
  },
  {
   "cell_type": "code",
   "execution_count": 21,
   "metadata": {},
   "outputs": [
    {
     "data": {
      "application/vnd.plotly.v1+json": {
       "config": {
        "plotlyServerURL": "https://plot.ly"
       },
       "data": [
        {
         "gauge": {
          "axis": {
           "range": [
            0,
            4
           ],
           "ticktext": [
            "No",
            "Minor",
            "Moderate",
            "Severe",
            "Fatal"
           ],
           "tickvals": [
            0,
            1,
            2,
            3,
            4
           ]
          },
          "bar": {
           "color": "darkred",
           "thickness": 0.3
          },
          "steps": [
           {
            "color": "green",
            "range": [
             0,
             1
            ]
           },
           {
            "color": "yellow",
            "range": [
             1,
             2
            ]
           },
           {
            "color": "orange",
            "range": [
             2,
             3
            ]
           },
           {
            "color": "red",
            "range": [
             3,
             4
            ]
           }
          ]
         },
         "mode": "gauge+number",
         "title": {
          "text": "Danger-o-Meter"
         },
         "type": "indicator",
         "value": 2.476
        }
       ],
       "layout": {
        "template": {
         "data": {
          "bar": [
           {
            "error_x": {
             "color": "#2a3f5f"
            },
            "error_y": {
             "color": "#2a3f5f"
            },
            "marker": {
             "line": {
              "color": "#E5ECF6",
              "width": 0.5
             },
             "pattern": {
              "fillmode": "overlay",
              "size": 10,
              "solidity": 0.2
             }
            },
            "type": "bar"
           }
          ],
          "barpolar": [
           {
            "marker": {
             "line": {
              "color": "#E5ECF6",
              "width": 0.5
             },
             "pattern": {
              "fillmode": "overlay",
              "size": 10,
              "solidity": 0.2
             }
            },
            "type": "barpolar"
           }
          ],
          "carpet": [
           {
            "aaxis": {
             "endlinecolor": "#2a3f5f",
             "gridcolor": "white",
             "linecolor": "white",
             "minorgridcolor": "white",
             "startlinecolor": "#2a3f5f"
            },
            "baxis": {
             "endlinecolor": "#2a3f5f",
             "gridcolor": "white",
             "linecolor": "white",
             "minorgridcolor": "white",
             "startlinecolor": "#2a3f5f"
            },
            "type": "carpet"
           }
          ],
          "choropleth": [
           {
            "colorbar": {
             "outlinewidth": 0,
             "ticks": ""
            },
            "type": "choropleth"
           }
          ],
          "contour": [
           {
            "colorbar": {
             "outlinewidth": 0,
             "ticks": ""
            },
            "colorscale": [
             [
              0,
              "#0d0887"
             ],
             [
              0.1111111111111111,
              "#46039f"
             ],
             [
              0.2222222222222222,
              "#7201a8"
             ],
             [
              0.3333333333333333,
              "#9c179e"
             ],
             [
              0.4444444444444444,
              "#bd3786"
             ],
             [
              0.5555555555555556,
              "#d8576b"
             ],
             [
              0.6666666666666666,
              "#ed7953"
             ],
             [
              0.7777777777777778,
              "#fb9f3a"
             ],
             [
              0.8888888888888888,
              "#fdca26"
             ],
             [
              1,
              "#f0f921"
             ]
            ],
            "type": "contour"
           }
          ],
          "contourcarpet": [
           {
            "colorbar": {
             "outlinewidth": 0,
             "ticks": ""
            },
            "type": "contourcarpet"
           }
          ],
          "heatmap": [
           {
            "colorbar": {
             "outlinewidth": 0,
             "ticks": ""
            },
            "colorscale": [
             [
              0,
              "#0d0887"
             ],
             [
              0.1111111111111111,
              "#46039f"
             ],
             [
              0.2222222222222222,
              "#7201a8"
             ],
             [
              0.3333333333333333,
              "#9c179e"
             ],
             [
              0.4444444444444444,
              "#bd3786"
             ],
             [
              0.5555555555555556,
              "#d8576b"
             ],
             [
              0.6666666666666666,
              "#ed7953"
             ],
             [
              0.7777777777777778,
              "#fb9f3a"
             ],
             [
              0.8888888888888888,
              "#fdca26"
             ],
             [
              1,
              "#f0f921"
             ]
            ],
            "type": "heatmap"
           }
          ],
          "heatmapgl": [
           {
            "colorbar": {
             "outlinewidth": 0,
             "ticks": ""
            },
            "colorscale": [
             [
              0,
              "#0d0887"
             ],
             [
              0.1111111111111111,
              "#46039f"
             ],
             [
              0.2222222222222222,
              "#7201a8"
             ],
             [
              0.3333333333333333,
              "#9c179e"
             ],
             [
              0.4444444444444444,
              "#bd3786"
             ],
             [
              0.5555555555555556,
              "#d8576b"
             ],
             [
              0.6666666666666666,
              "#ed7953"
             ],
             [
              0.7777777777777778,
              "#fb9f3a"
             ],
             [
              0.8888888888888888,
              "#fdca26"
             ],
             [
              1,
              "#f0f921"
             ]
            ],
            "type": "heatmapgl"
           }
          ],
          "histogram": [
           {
            "marker": {
             "pattern": {
              "fillmode": "overlay",
              "size": 10,
              "solidity": 0.2
             }
            },
            "type": "histogram"
           }
          ],
          "histogram2d": [
           {
            "colorbar": {
             "outlinewidth": 0,
             "ticks": ""
            },
            "colorscale": [
             [
              0,
              "#0d0887"
             ],
             [
              0.1111111111111111,
              "#46039f"
             ],
             [
              0.2222222222222222,
              "#7201a8"
             ],
             [
              0.3333333333333333,
              "#9c179e"
             ],
             [
              0.4444444444444444,
              "#bd3786"
             ],
             [
              0.5555555555555556,
              "#d8576b"
             ],
             [
              0.6666666666666666,
              "#ed7953"
             ],
             [
              0.7777777777777778,
              "#fb9f3a"
             ],
             [
              0.8888888888888888,
              "#fdca26"
             ],
             [
              1,
              "#f0f921"
             ]
            ],
            "type": "histogram2d"
           }
          ],
          "histogram2dcontour": [
           {
            "colorbar": {
             "outlinewidth": 0,
             "ticks": ""
            },
            "colorscale": [
             [
              0,
              "#0d0887"
             ],
             [
              0.1111111111111111,
              "#46039f"
             ],
             [
              0.2222222222222222,
              "#7201a8"
             ],
             [
              0.3333333333333333,
              "#9c179e"
             ],
             [
              0.4444444444444444,
              "#bd3786"
             ],
             [
              0.5555555555555556,
              "#d8576b"
             ],
             [
              0.6666666666666666,
              "#ed7953"
             ],
             [
              0.7777777777777778,
              "#fb9f3a"
             ],
             [
              0.8888888888888888,
              "#fdca26"
             ],
             [
              1,
              "#f0f921"
             ]
            ],
            "type": "histogram2dcontour"
           }
          ],
          "mesh3d": [
           {
            "colorbar": {
             "outlinewidth": 0,
             "ticks": ""
            },
            "type": "mesh3d"
           }
          ],
          "parcoords": [
           {
            "line": {
             "colorbar": {
              "outlinewidth": 0,
              "ticks": ""
             }
            },
            "type": "parcoords"
           }
          ],
          "pie": [
           {
            "automargin": true,
            "type": "pie"
           }
          ],
          "scatter": [
           {
            "fillpattern": {
             "fillmode": "overlay",
             "size": 10,
             "solidity": 0.2
            },
            "type": "scatter"
           }
          ],
          "scatter3d": [
           {
            "line": {
             "colorbar": {
              "outlinewidth": 0,
              "ticks": ""
             }
            },
            "marker": {
             "colorbar": {
              "outlinewidth": 0,
              "ticks": ""
             }
            },
            "type": "scatter3d"
           }
          ],
          "scattercarpet": [
           {
            "marker": {
             "colorbar": {
              "outlinewidth": 0,
              "ticks": ""
             }
            },
            "type": "scattercarpet"
           }
          ],
          "scattergeo": [
           {
            "marker": {
             "colorbar": {
              "outlinewidth": 0,
              "ticks": ""
             }
            },
            "type": "scattergeo"
           }
          ],
          "scattergl": [
           {
            "marker": {
             "colorbar": {
              "outlinewidth": 0,
              "ticks": ""
             }
            },
            "type": "scattergl"
           }
          ],
          "scattermapbox": [
           {
            "marker": {
             "colorbar": {
              "outlinewidth": 0,
              "ticks": ""
             }
            },
            "type": "scattermapbox"
           }
          ],
          "scatterpolar": [
           {
            "marker": {
             "colorbar": {
              "outlinewidth": 0,
              "ticks": ""
             }
            },
            "type": "scatterpolar"
           }
          ],
          "scatterpolargl": [
           {
            "marker": {
             "colorbar": {
              "outlinewidth": 0,
              "ticks": ""
             }
            },
            "type": "scatterpolargl"
           }
          ],
          "scatterternary": [
           {
            "marker": {
             "colorbar": {
              "outlinewidth": 0,
              "ticks": ""
             }
            },
            "type": "scatterternary"
           }
          ],
          "surface": [
           {
            "colorbar": {
             "outlinewidth": 0,
             "ticks": ""
            },
            "colorscale": [
             [
              0,
              "#0d0887"
             ],
             [
              0.1111111111111111,
              "#46039f"
             ],
             [
              0.2222222222222222,
              "#7201a8"
             ],
             [
              0.3333333333333333,
              "#9c179e"
             ],
             [
              0.4444444444444444,
              "#bd3786"
             ],
             [
              0.5555555555555556,
              "#d8576b"
             ],
             [
              0.6666666666666666,
              "#ed7953"
             ],
             [
              0.7777777777777778,
              "#fb9f3a"
             ],
             [
              0.8888888888888888,
              "#fdca26"
             ],
             [
              1,
              "#f0f921"
             ]
            ],
            "type": "surface"
           }
          ],
          "table": [
           {
            "cells": {
             "fill": {
              "color": "#EBF0F8"
             },
             "line": {
              "color": "white"
             }
            },
            "header": {
             "fill": {
              "color": "#C8D4E3"
             },
             "line": {
              "color": "white"
             }
            },
            "type": "table"
           }
          ]
         },
         "layout": {
          "annotationdefaults": {
           "arrowcolor": "#2a3f5f",
           "arrowhead": 0,
           "arrowwidth": 1
          },
          "autotypenumbers": "strict",
          "coloraxis": {
           "colorbar": {
            "outlinewidth": 0,
            "ticks": ""
           }
          },
          "colorscale": {
           "diverging": [
            [
             0,
             "#8e0152"
            ],
            [
             0.1,
             "#c51b7d"
            ],
            [
             0.2,
             "#de77ae"
            ],
            [
             0.3,
             "#f1b6da"
            ],
            [
             0.4,
             "#fde0ef"
            ],
            [
             0.5,
             "#f7f7f7"
            ],
            [
             0.6,
             "#e6f5d0"
            ],
            [
             0.7,
             "#b8e186"
            ],
            [
             0.8,
             "#7fbc41"
            ],
            [
             0.9,
             "#4d9221"
            ],
            [
             1,
             "#276419"
            ]
           ],
           "sequential": [
            [
             0,
             "#0d0887"
            ],
            [
             0.1111111111111111,
             "#46039f"
            ],
            [
             0.2222222222222222,
             "#7201a8"
            ],
            [
             0.3333333333333333,
             "#9c179e"
            ],
            [
             0.4444444444444444,
             "#bd3786"
            ],
            [
             0.5555555555555556,
             "#d8576b"
            ],
            [
             0.6666666666666666,
             "#ed7953"
            ],
            [
             0.7777777777777778,
             "#fb9f3a"
            ],
            [
             0.8888888888888888,
             "#fdca26"
            ],
            [
             1,
             "#f0f921"
            ]
           ],
           "sequentialminus": [
            [
             0,
             "#0d0887"
            ],
            [
             0.1111111111111111,
             "#46039f"
            ],
            [
             0.2222222222222222,
             "#7201a8"
            ],
            [
             0.3333333333333333,
             "#9c179e"
            ],
            [
             0.4444444444444444,
             "#bd3786"
            ],
            [
             0.5555555555555556,
             "#d8576b"
            ],
            [
             0.6666666666666666,
             "#ed7953"
            ],
            [
             0.7777777777777778,
             "#fb9f3a"
            ],
            [
             0.8888888888888888,
             "#fdca26"
            ],
            [
             1,
             "#f0f921"
            ]
           ]
          },
          "colorway": [
           "#636efa",
           "#EF553B",
           "#00cc96",
           "#ab63fa",
           "#FFA15A",
           "#19d3f3",
           "#FF6692",
           "#B6E880",
           "#FF97FF",
           "#FECB52"
          ],
          "font": {
           "color": "#2a3f5f"
          },
          "geo": {
           "bgcolor": "white",
           "lakecolor": "white",
           "landcolor": "#E5ECF6",
           "showlakes": true,
           "showland": true,
           "subunitcolor": "white"
          },
          "hoverlabel": {
           "align": "left"
          },
          "hovermode": "closest",
          "mapbox": {
           "style": "light"
          },
          "paper_bgcolor": "white",
          "plot_bgcolor": "#E5ECF6",
          "polar": {
           "angularaxis": {
            "gridcolor": "white",
            "linecolor": "white",
            "ticks": ""
           },
           "bgcolor": "#E5ECF6",
           "radialaxis": {
            "gridcolor": "white",
            "linecolor": "white",
            "ticks": ""
           }
          },
          "scene": {
           "xaxis": {
            "backgroundcolor": "#E5ECF6",
            "gridcolor": "white",
            "gridwidth": 2,
            "linecolor": "white",
            "showbackground": true,
            "ticks": "",
            "zerolinecolor": "white"
           },
           "yaxis": {
            "backgroundcolor": "#E5ECF6",
            "gridcolor": "white",
            "gridwidth": 2,
            "linecolor": "white",
            "showbackground": true,
            "ticks": "",
            "zerolinecolor": "white"
           },
           "zaxis": {
            "backgroundcolor": "#E5ECF6",
            "gridcolor": "white",
            "gridwidth": 2,
            "linecolor": "white",
            "showbackground": true,
            "ticks": "",
            "zerolinecolor": "white"
           }
          },
          "shapedefaults": {
           "line": {
            "color": "#2a3f5f"
           }
          },
          "ternary": {
           "aaxis": {
            "gridcolor": "white",
            "linecolor": "white",
            "ticks": ""
           },
           "baxis": {
            "gridcolor": "white",
            "linecolor": "white",
            "ticks": ""
           },
           "bgcolor": "#E5ECF6",
           "caxis": {
            "gridcolor": "white",
            "linecolor": "white",
            "ticks": ""
           }
          },
          "title": {
           "x": 0.05
          },
          "xaxis": {
           "automargin": true,
           "gridcolor": "white",
           "linecolor": "white",
           "ticks": "",
           "title": {
            "standoff": 15
           },
           "zerolinecolor": "white",
           "zerolinewidth": 2
          },
          "yaxis": {
           "automargin": true,
           "gridcolor": "white",
           "linecolor": "white",
           "ticks": "",
           "title": {
            "standoff": 15
           },
           "zerolinecolor": "white",
           "zerolinewidth": 2
          }
         }
        }
       }
      }
     },
     "metadata": {},
     "output_type": "display_data"
    }
   ],
   "source": [
    "# David's cell - Added the Danger-O-Meter visualization\n",
    "value = 2.476\n",
    "import plotly.graph_objects as go\n",
    "fig = go.Figure(go.Indicator(\n",
    "    mode = \"gauge+number\",\n",
    "    value = value,\n",
    "    title = {\"text\": \"Danger-o-Meter\"},\n",
    "    gauge = {\n",
    "        'axis': {'range': [0, 4], 'tickvals': [0, 1, 2, 3, 4], 'ticktext': [\"No\", \"Minor\", \"Moderate\", \"Severe\", \"Fatal\"]},\n",
    "        'bar': {'color': \"darkred\", 'thickness': 0.3},  # thinner pointer-like bar\n",
    "        'steps': [\n",
    "            {'range': [0, 1], 'color': \"green\"},\n",
    "            #{'range': [1, 2], 'color': \"lightgreen\"},\n",
    "            {'range': [1, 2], 'color': \"yellow\"},\n",
    "            {'range': [2, 3], 'color': \"orange\"},\n",
    "            {'range': [3, 4], 'color': \"red\"}\n",
    "        ]\n",
    "    }\n",
    "))\n",
    "fig.show()"
   ]
  },
  {
   "cell_type": "code",
   "execution_count": 12,
   "metadata": {},
   "outputs": [
    {
     "data": {
      "image/png": "[encoded data removed]",
      "text/plain": [
       "<Figure size 800x600 with 1 Axes>"
      ]
     },
     "metadata": {},
     "output_type": "display_data"
    },
    {
     "data": {
      "image/png": "[encoded data removed]",
      "text/plain": [
       "<Figure size 800x600 with 1 Axes>"
      ]
     },
     "metadata": {},
     "output_type": "display_data"
    },
    {
     "data": {
      "image/png": "[encoded data removed]",
      "text/plain": [
       "<Figure size 800x500 with 1 Axes>"
      ]
     },
     "metadata": {},
     "output_type": "display_data"
    },
    {
     "data": {
      "image/png": "[encoded data removed]",
      "text/plain": [
       "<Figure size 1200x500 with 1 Axes>"
      ]
     },
     "metadata": {},
     "output_type": "display_data"
    }
   ],
   "source": [
    "# Cell 11 — Basic EDA visualizations\n",
    "\n",
    "import matplotlib.pyplot as plt\n",
    "import seaborn as sns\n",
    "sns.set(style=\"whitegrid\")\n",
    "\n",
    "# Top countries (defensive column name)\n",
    "country_col = [c for c in df.columns if 'country' in c]\n",
    "country_col = country_col[0] if country_col else None\n",
    "\n",
    "if country_col:\n",
    "    top_countries = df[country_col].value_counts().nlargest(10)\n",
    "    plt.figure(figsize=(8,6))\n",
    "    sns.barplot(x=top_countries.values, y=top_countries.index)\n",
    "    plt.title(\"Top 10 countries by recorded attacks\")\n",
    "    plt.xlabel(\"Count\")\n",
    "    plt.show()\n",
    "else:\n",
    "    print(\"Country column not found.\")\n",
    "\n",
    "# Activity groups\n",
    "if 'activity_group' in df.columns:\n",
    "    plt.figure(figsize=(8,6))\n",
    "    sns.countplot(y='activity_group', data=df, order=df['activity_group'].value_counts().index)\n",
    "    plt.title(\"Attacks by activity group\")\n",
    "    plt.show()\n",
    "else:\n",
    "    print(\"No activity_group column to plot.\")\n",
    "\n",
    "# Age distribution\n",
    "age_col = age_col_clean[0] if age_col_clean else None\n",
    "if age_col:\n",
    "    plt.figure(figsize=(8,5))\n",
    "    sns.histplot(df[age_col].dropna(), bins=20, kde=True)\n",
    "    plt.title(\"Age distribution of victims\")\n",
    "    plt.show()\n",
    "else:\n",
    "    print(\"No cleaned age column for histogram.\")\n",
    "\n",
    "# Attacks over time (year)\n",
    "if 'year' in df.columns:\n",
    "    attacks_by_year = df['year'].value_counts().sort_index()\n",
    "    plt.figure(figsize=(12,5))\n",
    "    attacks_by_year.plot()\n",
    "    plt.title(\"Attacks by year\")\n",
    "    plt.ylabel(\"Number of attacks\")\n",
    "    plt.xlabel(\"Year\")\n",
    "    plt.show()\n",
    "else:\n",
    "    print(\"No year column to plot.\")\n"
   ]
  },
  {
   "cell_type": "code",
   "execution_count": 13,
   "metadata": {},
   "outputs": [
    {
     "name": "stdout",
     "output_type": "stream",
     "text": [
      "Saved cleaned dataset to: ../data/shark_attacks_cleaned_v2.csv\n"
     ]
    }
   ],
   "source": [
    "# Cell 12 — Save the cleaned dataset (versioned)\n",
    "output_path = \"../data/shark_attacks_cleaned_v2.csv\"\n",
    "df.to_csv(output_path, index=False)\n",
    "print(\"Saved cleaned dataset to:\", output_path)\n"
   ]
  },
  {
   "cell_type": "code",
   "execution_count": null,
   "metadata": {},
   "outputs": [],
   "source": []
  }
 ],
 "metadata": {
  "kernelspec": {
   "display_name": "base",
   "language": "python",
   "name": "python3"
  },
  "language_info": {
   "codemirror_mode": {
    "name": "ipython",
    "version": 3
   },
   "file_extension": ".py",
   "mimetype": "text/x-python",
   "name": "python",
   "nbconvert_exporter": "python",
   "pygments_lexer": "ipython3",
   "version": "3.13.5"
  }
 },
 "nbformat": 4,
 "nbformat_minor": 4
}
